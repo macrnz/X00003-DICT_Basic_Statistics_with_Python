{
 "cells": [
  {
   "cell_type": "markdown",
   "metadata": {},
   "source": [
    "Coding Challenge"
   ]
  },
  {
   "cell_type": "markdown",
   "metadata": {},
   "source": [
    "Statistics using Python"
   ]
  },
  {
   "cell_type": "code",
   "execution_count": 2,
   "metadata": {},
   "outputs": [
    {
     "name": "stdout",
     "output_type": "stream",
     "text": [
      "Your average online buys for the past 5 weeks are:  20.6\n"
     ]
    }
   ],
   "source": [
    "def get_mean(ave):\n",
    "    print(\"Your average online buys for the past 5 weeks are: \", ave)\n",
    "\n",
    "purchased_per_week = [19, 27, 17, 24, 16]\n",
    "n =len(purchased_per_week)\n",
    "\n",
    "get_sum = sum(purchased_per_week)\n",
    "mean = get_sum / n\n",
    "\n",
    "m = str(mean)\n",
    "\n",
    "get_mean(m)"
   ]
  }
 ],
 "metadata": {
  "interpreter": {
   "hash": "ac2eaa0ea0ebeafcc7822e65e46aa9d4f966f30b695406963e145ea4a91cd4fc"
  },
  "kernelspec": {
   "display_name": "Python 3.9.1 64-bit",
   "language": "python",
   "name": "python3"
  },
  "language_info": {
   "codemirror_mode": {
    "name": "ipython",
    "version": 3
   },
   "file_extension": ".py",
   "mimetype": "text/x-python",
   "name": "python",
   "nbconvert_exporter": "python",
   "pygments_lexer": "ipython3",
   "version": "3.9.1"
  },
  "orig_nbformat": 4
 },
 "nbformat": 4,
 "nbformat_minor": 2
}
