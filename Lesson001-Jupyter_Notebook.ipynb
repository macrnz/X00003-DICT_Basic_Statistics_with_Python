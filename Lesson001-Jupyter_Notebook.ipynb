{
 "cells": [
  {
   "cell_type": "markdown",
   "metadata": {},
   "source": [
    "A **function** is a block of code which only runs when it is called.\n",
    "\n",
    "You can pass data, known as **_parameters_**, into a function. A function can also *return* a data as a result.\n",
    "\n",
    "This function, **get_mean**, has one parameter **ave**.\n",
    "The value of **m** is passed into the function and returns as a result when the function is called."
   ]
  },
  {
   "cell_type": "code",
   "execution_count": 4,
   "metadata": {},
   "outputs": [
    {
     "name": "stdout",
     "output_type": "stream",
     "text": [
      "The mean of this list is:  81.5\n"
     ]
    }
   ],
   "source": [
    "def get_mean(ave):\n",
    "    print(\"The mean of this list is: \", ave)\n",
    "\n",
    "n_num = [78, 80, 79, 80, 87, 85]\n",
    "n = len(n_num)\n",
    "\n",
    "get_sum = sum(n_num)\n",
    "mean = get_sum / n\n",
    "\n",
    "m = str(mean)\n",
    "\n",
    "get_mean(m)"
   ]
  },
  {
   "cell_type": "markdown",
   "metadata": {},
   "source": [
    "An **array** is a type of data structure.\n",
    "To use an array in Python, we need to **import** this data structure from the **array** module.\n",
    "A **list** is a data structure that's built into Python and holds a collection of items.\n",
    "\n",
    "This code prints the **_first 5 elements_** of the array friends_usage.\n",
    "In both arrays and lists, the index starts from \"0\" and not \"1\"."
   ]
  },
  {
   "cell_type": "code",
   "execution_count": 5,
   "metadata": {},
   "outputs": [
    {
     "name": "stdout",
     "output_type": "stream",
     "text": [
      "array('i', [5, 4, 3, 5, 8])\n"
     ]
    }
   ],
   "source": [
    "import array as arr\n",
    "\n",
    "friends_usage = [5, 4, 3, 5, 8, 2, 5, 2, 5, 8, 10, 8, 7, 9, 10, 5, 7, 5, 4, 3, 5, 8, 4]\n",
    "\n",
    "sample_data = arr.array('i', friends_usage)\n",
    "\n",
    "print(sample_data[0:5])\n",
    "#1st to 5th Element"
   ]
  },
  {
   "cell_type": "code",
   "execution_count": null,
   "metadata": {},
   "outputs": [],
   "source": [
    "#MEAN CODE\n",
    "\n",
    "def get_mean(ave):\n",
    "    print(\"The mean of this list is: \", ave)\n",
    "\n",
    "n_num = [78, 80, 79, 80, 87, 85]\n",
    "n = len(n_num)\n",
    "\n",
    "get_sum = sum(n_num)\n",
    "mean = get_sum / n\n",
    "\n",
    "m = str(mean)\n",
    "\n",
    "get_mean(m)"
   ]
  },
  {
   "cell_type": "code",
   "execution_count": null,
   "metadata": {},
   "outputs": [],
   "source": [
    "#MEDIAN CODE\n",
    "\n",
    "import array as arr\n",
    "\n",
    "def median(nums):\n",
    "    nums.sort()\n",
    "    if len(nums)%2 == 0:\n",
    "        return int (nums[len(nums)//2-1]+nums[len(nums)//2])/2\n",
    "    else:\n",
    "        return nums[len(nums)//2]\n",
    "\n",
    "n_num = [78, 80, 79, 80, 87, 85]\n",
    "print(\"Median: \", median(n_num))"
   ]
  },
  {
   "cell_type": "code",
   "execution_count": null,
   "metadata": {},
   "outputs": [],
   "source": [
    "#VARIANCE CODE\n",
    "\n",
    "friends_usage = [5, 4, 3, 5, 8, 2, 5, 2, 5, 8, 10, 8, 7, 9, 10, 5, 7, 5, 7, 5, 4, 3, 5, 8, 4]\n",
    "\n",
    "def print_friends_usage(friends_usage):\n",
    "    for usage in friends_usage:\n",
    "        print(g)\n",
    "\n",
    "def friends_usage_sum(friends_usage):\n",
    "    total = 0\n",
    "    for usage in friends_usage:\n",
    "        total += usage\n",
    "    return total\n",
    "\n",
    "def friends_usage_average(friends_usage):\n",
    "    sum_of_friends_usage = friends_usage_sum(friends_usage)\n",
    "    average = sum_of_friends_usage / float(len(friends_usage))\n",
    "    return average\n",
    "\n",
    "def friends_usage_variance(scores):\n",
    "    average = friends_usage_average(scores)\n",
    "    variance = 0\n",
    "    for score in scores:\n",
    "        variance = variance + (average - score) ** 2\n",
    "    return variance / len(scores)\n",
    "\n",
    "v = round(friends_usage_variance(friends_usage), 2)\n",
    "\n",
    "print(\"Variance: \", v)"
   ]
  },
  {
   "cell_type": "code",
   "execution_count": null,
   "metadata": {},
   "outputs": [],
   "source": [
    "#STANDARD DEVIATION CODE\n",
    "\n",
    "def friends_usage_std_deviation(variance):\n",
    "    return variance ** 0.5\n",
    "\n",
    "variance = friends_usage_variance(friends_usage)\n",
    "s = round(friends_usage_std_deviation(variance), 2)\n",
    "\n",
    "print(\"Standard Deviation: \", s)"
   ]
  },
  {
   "cell_type": "code",
   "execution_count": null,
   "metadata": {},
   "outputs": [],
   "source": [
    "#DESCRIPTIVE STATISTICS (POPULATION)\n",
    "\n",
    "import statistics\n",
    "\n",
    "friends_usage = [5, 4, 3, 5, 8, 2, 5, 2, 5, 8, 10, 8, 7, 9, 10, 5, 7, 5, 7, 5, 4, 3, 5, 8, 4]\n",
    "\n",
    "mean = statistics.mean(friends_usage)\n",
    "mode = statistics.mode(friends_usage)\n",
    "median = statistics.median(friends_usage)\n",
    "pstdev = round(statistics.pstdev(friends_usage), 2)\n",
    "pvariance = round(statistics.pvariance(friends_usage), 2)\n",
    "srange = (max(friends_usage) -min(friends_usage))\n",
    "\n",
    "print(\"Descriptive Statistics\")\n",
    "print(\"Mean: \", mean)\n",
    "print(\"Mode: \", mode)\n",
    "print(\"Median: \", median)\n",
    "print(\"Range:\", srange)\n",
    "print(\"Population Variance: \", pvariance)\n",
    "print(\"Population Standard Deviation: \", pstdev)"
   ]
  },
  {
   "cell_type": "code",
   "execution_count": 4,
   "metadata": {},
   "outputs": [
    {
     "name": "stdout",
     "output_type": "stream",
     "text": [
      "Descriptive Statistics\n",
      "Mean:  5.76\n",
      "Mode:  5\n",
      "Median:  5\n",
      "Range: 8\n",
      "Population Variance:  5.14\n",
      "Population Standard Deviation:  2.27\n"
     ]
    }
   ],
   "source": [
    "#DESCRIPTIVE STATISTICS (POPULATION AND SAMPLE DATA)\n",
    "\n",
    "import statistics\n",
    "import array as arr\n",
    "\n",
    "friends_usage = [5, 4, 3, 5, 8, 2, 5, 2, 5, 8, 10, 8, 7, 9, 10, 5, 7, 5, 7, 5, 4, 3, 5, 8, 4]\n",
    "\n",
    "sample_data = arr.array('i', friends_usage)\n",
    "dataset = sample_data[0:5]\n",
    "sample_data_list = dataset.tolist()\n",
    "\n",
    "mean = statistics.mean(friends_usage)\n",
    "mode = statistics.mode(friends_usage)\n",
    "median = statistics.median(friends_usage)\n",
    "pstdev = round(statistics.pstdev(friends_usage), 2)\n",
    "pvariance = round(statistics.pvariance(friends_usage), 2)\n",
    "srange = (max(friends_usage) -min(friends_usage))\n",
    "\n",
    "variance = round(statistics.variance(sample_data_list), 2)\n",
    "stdev = round(statistics.stdev(sample_data_list), 2)\n",
    "\n",
    "print(\"Descriptive Statistics\")\n",
    "print(\"Mean: \", mean)\n",
    "print(\"Mode: \", mode)\n",
    "print(\"Median: \", median)\n",
    "print(\"Range:\", srange)\n",
    "print(\"Population Variance: \", pvariance)\n",
    "print(\"Population Standard Deviation: \", pstdev)"
   ]
  }
 ],
 "metadata": {
  "interpreter": {
   "hash": "ac2eaa0ea0ebeafcc7822e65e46aa9d4f966f30b695406963e145ea4a91cd4fc"
  },
  "kernelspec": {
   "display_name": "Python 3.9.1 64-bit",
   "language": "python",
   "name": "python3"
  },
  "language_info": {
   "codemirror_mode": {
    "name": "ipython",
    "version": 3
   },
   "file_extension": ".py",
   "mimetype": "text/x-python",
   "name": "python",
   "nbconvert_exporter": "python",
   "pygments_lexer": "ipython3",
   "version": "3.9.1"
  },
  "orig_nbformat": 4
 },
 "nbformat": 4,
 "nbformat_minor": 2
}
